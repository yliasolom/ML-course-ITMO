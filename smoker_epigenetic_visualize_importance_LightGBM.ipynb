{
 "cells": [
  {
   "cell_type": "code",
   "execution_count": 12,
   "id": "stone-turtle",
   "metadata": {
    "execution": {
     "iopub.execute_input": "2021-06-18T12:07:57.851040Z",
     "iopub.status.busy": "2021-06-18T12:07:57.849104Z",
     "iopub.status.idle": "2021-06-18T12:08:06.392333Z",
     "shell.execute_reply": "2021-06-18T12:08:06.391510Z",
     "shell.execute_reply.started": "2021-06-18T12:07:12.679212Z"
    },
    "papermill": {
     "duration": 8.590447,
     "end_time": "2021-06-18T12:08:06.392497",
     "exception": false,
     "start_time": "2021-06-18T12:07:57.802050",
     "status": "completed"
    },
    "tags": []
   },
   "outputs": [],
   "source": [
    "import os\n",
    "import numpy as np\n",
    "import pandas as pd\n",
    "import random\n",
    "import matplotlib.pyplot as plt\n",
    "import seaborn as sns\n",
    "\n",
    "from contextlib import contextmanager\n",
    "from time import time\n",
    "from tqdm import tqdm\n",
    "import lightgbm as lgbm\n",
    "import category_encoders as ce\n",
    "\n",
    "from sklearn.metrics import classification_report, log_loss, accuracy_score\n",
    "from sklearn.metrics import mean_squared_error\n",
    "from sklearn.model_selection import KFold"
   ]
  },
  {
   "cell_type": "markdown",
   "id": "satisfied-elimination",
   "metadata": {
    "papermill": {
     "duration": 0.029604,
     "end_time": "2021-06-18T12:08:06.453508",
     "exception": false,
     "start_time": "2021-06-18T12:08:06.423904",
     "status": "completed"
    },
    "tags": []
   },
   "source": [
    "# Data preparation"
   ]
  },
  {
   "cell_type": "code",
   "execution_count": 70,
   "id": "fundamental-battlefield",
   "metadata": {
    "execution": {
     "iopub.execute_input": "2021-06-18T12:08:06.518890Z",
     "iopub.status.busy": "2021-06-18T12:08:06.518203Z",
     "iopub.status.idle": "2021-06-18T12:08:06.589023Z",
     "shell.execute_reply": "2021-06-18T12:08:06.589561Z",
     "shell.execute_reply.started": "2021-06-18T12:07:21.244814Z"
    },
    "papermill": {
     "duration": 0.106255,
     "end_time": "2021-06-18T12:08:06.589740",
     "exception": false,
     "start_time": "2021-06-18T12:08:06.483485",
     "status": "completed"
    },
    "tags": []
   },
   "outputs": [
    {
     "data": {
      "text/html": [
       "<div>\n",
       "<style scoped>\n",
       "    .dataframe tbody tr th:only-of-type {\n",
       "        vertical-align: middle;\n",
       "    }\n",
       "\n",
       "    .dataframe tbody tr th {\n",
       "        vertical-align: top;\n",
       "    }\n",
       "\n",
       "    .dataframe thead th {\n",
       "        text-align: right;\n",
       "    }\n",
       "</style>\n",
       "<table border=\"1\" class=\"dataframe\">\n",
       "  <thead>\n",
       "    <tr style=\"text-align: right;\">\n",
       "      <th></th>\n",
       "      <th>GSM</th>\n",
       "      <th>Smoking Status</th>\n",
       "      <th>Gender</th>\n",
       "      <th>Age</th>\n",
       "      <th>cg00050873</th>\n",
       "      <th>cg00212031</th>\n",
       "      <th>cg00213748</th>\n",
       "      <th>cg00214611</th>\n",
       "      <th>cg00455876</th>\n",
       "      <th>cg01707559</th>\n",
       "      <th>...</th>\n",
       "      <th>cg02494853</th>\n",
       "      <th>cg02839557</th>\n",
       "      <th>cg02842889</th>\n",
       "      <th>cg03052502</th>\n",
       "      <th>cg03155755</th>\n",
       "      <th>cg03244189</th>\n",
       "      <th>cg03443143</th>\n",
       "      <th>cg03683899</th>\n",
       "      <th>cg03695421</th>\n",
       "      <th>cg03706273</th>\n",
       "    </tr>\n",
       "  </thead>\n",
       "  <tbody>\n",
       "    <tr>\n",
       "      <th>0</th>\n",
       "      <td>GSM1051525</td>\n",
       "      <td>current</td>\n",
       "      <td>f</td>\n",
       "      <td>67</td>\n",
       "      <td>0.607563</td>\n",
       "      <td>0.422843</td>\n",
       "      <td>0.372455</td>\n",
       "      <td>0.621562</td>\n",
       "      <td>0.290777</td>\n",
       "      <td>0.267143</td>\n",
       "      <td>...</td>\n",
       "      <td>0.067070</td>\n",
       "      <td>0.246993</td>\n",
       "      <td>0.469240</td>\n",
       "      <td>0.400247</td>\n",
       "      <td>0.415031</td>\n",
       "      <td>0.221433</td>\n",
       "      <td>0.475826</td>\n",
       "      <td>0.207724</td>\n",
       "      <td>0.209197</td>\n",
       "      <td>0.129983</td>\n",
       "    </tr>\n",
       "    <tr>\n",
       "      <th>1</th>\n",
       "      <td>GSM1051526</td>\n",
       "      <td>current</td>\n",
       "      <td>f</td>\n",
       "      <td>49</td>\n",
       "      <td>0.345054</td>\n",
       "      <td>0.568662</td>\n",
       "      <td>0.500600</td>\n",
       "      <td>0.498607</td>\n",
       "      <td>0.374591</td>\n",
       "      <td>0.190274</td>\n",
       "      <td>...</td>\n",
       "      <td>0.046939</td>\n",
       "      <td>0.236742</td>\n",
       "      <td>0.307467</td>\n",
       "      <td>0.377031</td>\n",
       "      <td>0.397371</td>\n",
       "      <td>0.217122</td>\n",
       "      <td>0.544469</td>\n",
       "      <td>0.184446</td>\n",
       "      <td>0.193773</td>\n",
       "      <td>0.098533</td>\n",
       "    </tr>\n",
       "    <tr>\n",
       "      <th>2</th>\n",
       "      <td>GSM1051527</td>\n",
       "      <td>current</td>\n",
       "      <td>f</td>\n",
       "      <td>53</td>\n",
       "      <td>0.321350</td>\n",
       "      <td>0.360909</td>\n",
       "      <td>0.352732</td>\n",
       "      <td>0.373824</td>\n",
       "      <td>0.230674</td>\n",
       "      <td>0.314705</td>\n",
       "      <td>...</td>\n",
       "      <td>0.038237</td>\n",
       "      <td>0.244612</td>\n",
       "      <td>0.357753</td>\n",
       "      <td>0.305044</td>\n",
       "      <td>0.521278</td>\n",
       "      <td>0.185049</td>\n",
       "      <td>0.537060</td>\n",
       "      <td>0.393123</td>\n",
       "      <td>0.268003</td>\n",
       "      <td>0.040248</td>\n",
       "    </tr>\n",
       "    <tr>\n",
       "      <th>3</th>\n",
       "      <td>GSM1051528</td>\n",
       "      <td>current</td>\n",
       "      <td>f</td>\n",
       "      <td>62</td>\n",
       "      <td>0.277268</td>\n",
       "      <td>0.304437</td>\n",
       "      <td>0.475235</td>\n",
       "      <td>0.486258</td>\n",
       "      <td>0.295181</td>\n",
       "      <td>0.295793</td>\n",
       "      <td>...</td>\n",
       "      <td>0.026716</td>\n",
       "      <td>0.001641</td>\n",
       "      <td>0.445739</td>\n",
       "      <td>0.271475</td>\n",
       "      <td>0.434492</td>\n",
       "      <td>0.165419</td>\n",
       "      <td>0.507917</td>\n",
       "      <td>0.281209</td>\n",
       "      <td>0.217857</td>\n",
       "      <td>0.101516</td>\n",
       "    </tr>\n",
       "    <tr>\n",
       "      <th>4</th>\n",
       "      <td>GSM1051529</td>\n",
       "      <td>never</td>\n",
       "      <td>f</td>\n",
       "      <td>33</td>\n",
       "      <td>0.413599</td>\n",
       "      <td>0.131251</td>\n",
       "      <td>0.367545</td>\n",
       "      <td>0.761167</td>\n",
       "      <td>0.235770</td>\n",
       "      <td>0.250526</td>\n",
       "      <td>...</td>\n",
       "      <td>0.037016</td>\n",
       "      <td>0.334320</td>\n",
       "      <td>0.395040</td>\n",
       "      <td>0.326553</td>\n",
       "      <td>0.430097</td>\n",
       "      <td>0.181135</td>\n",
       "      <td>0.405479</td>\n",
       "      <td>0.310794</td>\n",
       "      <td>0.280071</td>\n",
       "      <td>0.077857</td>\n",
       "    </tr>\n",
       "    <tr>\n",
       "      <th>...</th>\n",
       "      <td>...</td>\n",
       "      <td>...</td>\n",
       "      <td>...</td>\n",
       "      <td>...</td>\n",
       "      <td>...</td>\n",
       "      <td>...</td>\n",
       "      <td>...</td>\n",
       "      <td>...</td>\n",
       "      <td>...</td>\n",
       "      <td>...</td>\n",
       "      <td>...</td>\n",
       "      <td>...</td>\n",
       "      <td>...</td>\n",
       "      <td>...</td>\n",
       "      <td>...</td>\n",
       "      <td>...</td>\n",
       "      <td>...</td>\n",
       "      <td>...</td>\n",
       "      <td>...</td>\n",
       "      <td>...</td>\n",
       "      <td>...</td>\n",
       "    </tr>\n",
       "    <tr>\n",
       "      <th>678</th>\n",
       "      <td>GSM2219547</td>\n",
       "      <td>current</td>\n",
       "      <td>M</td>\n",
       "      <td>74</td>\n",
       "      <td>NaN</td>\n",
       "      <td>NaN</td>\n",
       "      <td>NaN</td>\n",
       "      <td>NaN</td>\n",
       "      <td>NaN</td>\n",
       "      <td>NaN</td>\n",
       "      <td>...</td>\n",
       "      <td>NaN</td>\n",
       "      <td>NaN</td>\n",
       "      <td>NaN</td>\n",
       "      <td>NaN</td>\n",
       "      <td>NaN</td>\n",
       "      <td>NaN</td>\n",
       "      <td>NaN</td>\n",
       "      <td>NaN</td>\n",
       "      <td>NaN</td>\n",
       "      <td>NaN</td>\n",
       "    </tr>\n",
       "    <tr>\n",
       "      <th>679</th>\n",
       "      <td>GSM2219548</td>\n",
       "      <td>current</td>\n",
       "      <td>M</td>\n",
       "      <td>75</td>\n",
       "      <td>NaN</td>\n",
       "      <td>NaN</td>\n",
       "      <td>NaN</td>\n",
       "      <td>NaN</td>\n",
       "      <td>NaN</td>\n",
       "      <td>NaN</td>\n",
       "      <td>...</td>\n",
       "      <td>NaN</td>\n",
       "      <td>NaN</td>\n",
       "      <td>NaN</td>\n",
       "      <td>NaN</td>\n",
       "      <td>NaN</td>\n",
       "      <td>NaN</td>\n",
       "      <td>NaN</td>\n",
       "      <td>NaN</td>\n",
       "      <td>NaN</td>\n",
       "      <td>NaN</td>\n",
       "    </tr>\n",
       "    <tr>\n",
       "      <th>680</th>\n",
       "      <td>GSM2219548</td>\n",
       "      <td>current</td>\n",
       "      <td>M</td>\n",
       "      <td>75</td>\n",
       "      <td>NaN</td>\n",
       "      <td>NaN</td>\n",
       "      <td>NaN</td>\n",
       "      <td>NaN</td>\n",
       "      <td>NaN</td>\n",
       "      <td>NaN</td>\n",
       "      <td>...</td>\n",
       "      <td>NaN</td>\n",
       "      <td>NaN</td>\n",
       "      <td>NaN</td>\n",
       "      <td>NaN</td>\n",
       "      <td>NaN</td>\n",
       "      <td>NaN</td>\n",
       "      <td>NaN</td>\n",
       "      <td>NaN</td>\n",
       "      <td>NaN</td>\n",
       "      <td>NaN</td>\n",
       "    </tr>\n",
       "    <tr>\n",
       "      <th>681</th>\n",
       "      <td>GSM2219549</td>\n",
       "      <td>current</td>\n",
       "      <td>M</td>\n",
       "      <td>75</td>\n",
       "      <td>NaN</td>\n",
       "      <td>NaN</td>\n",
       "      <td>NaN</td>\n",
       "      <td>NaN</td>\n",
       "      <td>NaN</td>\n",
       "      <td>NaN</td>\n",
       "      <td>...</td>\n",
       "      <td>NaN</td>\n",
       "      <td>NaN</td>\n",
       "      <td>NaN</td>\n",
       "      <td>NaN</td>\n",
       "      <td>NaN</td>\n",
       "      <td>NaN</td>\n",
       "      <td>NaN</td>\n",
       "      <td>NaN</td>\n",
       "      <td>NaN</td>\n",
       "      <td>NaN</td>\n",
       "    </tr>\n",
       "    <tr>\n",
       "      <th>682</th>\n",
       "      <td>GSM2219549</td>\n",
       "      <td>current</td>\n",
       "      <td>M</td>\n",
       "      <td>75</td>\n",
       "      <td>NaN</td>\n",
       "      <td>NaN</td>\n",
       "      <td>NaN</td>\n",
       "      <td>NaN</td>\n",
       "      <td>NaN</td>\n",
       "      <td>NaN</td>\n",
       "      <td>...</td>\n",
       "      <td>NaN</td>\n",
       "      <td>NaN</td>\n",
       "      <td>NaN</td>\n",
       "      <td>NaN</td>\n",
       "      <td>NaN</td>\n",
       "      <td>NaN</td>\n",
       "      <td>NaN</td>\n",
       "      <td>NaN</td>\n",
       "      <td>NaN</td>\n",
       "      <td>NaN</td>\n",
       "    </tr>\n",
       "  </tbody>\n",
       "</table>\n",
       "<p>683 rows × 24 columns</p>\n",
       "</div>"
      ],
      "text/plain": [
       "            GSM Smoking Status Gender  Age  cg00050873  cg00212031  \\\n",
       "0    GSM1051525        current      f   67    0.607563    0.422843   \n",
       "1    GSM1051526        current      f   49    0.345054    0.568662   \n",
       "2    GSM1051527        current      f   53    0.321350    0.360909   \n",
       "3    GSM1051528        current      f   62    0.277268    0.304437   \n",
       "4    GSM1051529          never      f   33    0.413599    0.131251   \n",
       "..          ...            ...    ...  ...         ...         ...   \n",
       "678  GSM2219547        current      M   74         NaN         NaN   \n",
       "679  GSM2219548        current      M   75         NaN         NaN   \n",
       "680  GSM2219548        current      M   75         NaN         NaN   \n",
       "681  GSM2219549        current      M   75         NaN         NaN   \n",
       "682  GSM2219549        current      M   75         NaN         NaN   \n",
       "\n",
       "     cg00213748  cg00214611  cg00455876  cg01707559  ...  cg02494853  \\\n",
       "0      0.372455    0.621562    0.290777    0.267143  ...    0.067070   \n",
       "1      0.500600    0.498607    0.374591    0.190274  ...    0.046939   \n",
       "2      0.352732    0.373824    0.230674    0.314705  ...    0.038237   \n",
       "3      0.475235    0.486258    0.295181    0.295793  ...    0.026716   \n",
       "4      0.367545    0.761167    0.235770    0.250526  ...    0.037016   \n",
       "..          ...         ...         ...         ...  ...         ...   \n",
       "678         NaN         NaN         NaN         NaN  ...         NaN   \n",
       "679         NaN         NaN         NaN         NaN  ...         NaN   \n",
       "680         NaN         NaN         NaN         NaN  ...         NaN   \n",
       "681         NaN         NaN         NaN         NaN  ...         NaN   \n",
       "682         NaN         NaN         NaN         NaN  ...         NaN   \n",
       "\n",
       "     cg02839557  cg02842889  cg03052502  cg03155755  cg03244189  cg03443143  \\\n",
       "0      0.246993    0.469240    0.400247    0.415031    0.221433    0.475826   \n",
       "1      0.236742    0.307467    0.377031    0.397371    0.217122    0.544469   \n",
       "2      0.244612    0.357753    0.305044    0.521278    0.185049    0.537060   \n",
       "3      0.001641    0.445739    0.271475    0.434492    0.165419    0.507917   \n",
       "4      0.334320    0.395040    0.326553    0.430097    0.181135    0.405479   \n",
       "..          ...         ...         ...         ...         ...         ...   \n",
       "678         NaN         NaN         NaN         NaN         NaN         NaN   \n",
       "679         NaN         NaN         NaN         NaN         NaN         NaN   \n",
       "680         NaN         NaN         NaN         NaN         NaN         NaN   \n",
       "681         NaN         NaN         NaN         NaN         NaN         NaN   \n",
       "682         NaN         NaN         NaN         NaN         NaN         NaN   \n",
       "\n",
       "     cg03683899  cg03695421  cg03706273  \n",
       "0      0.207724    0.209197    0.129983  \n",
       "1      0.184446    0.193773    0.098533  \n",
       "2      0.393123    0.268003    0.040248  \n",
       "3      0.281209    0.217857    0.101516  \n",
       "4      0.310794    0.280071    0.077857  \n",
       "..          ...         ...         ...  \n",
       "678         NaN         NaN         NaN  \n",
       "679         NaN         NaN         NaN  \n",
       "680         NaN         NaN         NaN  \n",
       "681         NaN         NaN         NaN  \n",
       "682         NaN         NaN         NaN  \n",
       "\n",
       "[683 rows x 24 columns]"
      ]
     },
     "execution_count": 70,
     "metadata": {},
     "output_type": "execute_result"
    }
   ],
   "source": [
    "data0 = pd.read_csv(\"/home/iuliiasolomennikova/Desktop/ITMO_ML/ML_ITMO/Smoker_Epigenetic_df.csv\")\n",
    "data0"
   ]
  },
  {
   "cell_type": "code",
   "execution_count": 71,
   "id": "innovative-workplace",
   "metadata": {
    "execution": {
     "iopub.execute_input": "2021-06-18T12:08:06.805619Z",
     "iopub.status.busy": "2021-06-18T12:08:06.804945Z",
     "iopub.status.idle": "2021-06-18T12:08:06.841660Z",
     "shell.execute_reply": "2021-06-18T12:08:06.842201Z",
     "shell.execute_reply.started": "2021-06-18T12:07:21.350653Z"
    },
    "papermill": {
     "duration": 0.072126,
     "end_time": "2021-06-18T12:08:06.842374",
     "exception": false,
     "start_time": "2021-06-18T12:08:06.770248",
     "status": "completed"
    },
    "tags": []
   },
   "outputs": [
    {
     "data": {
      "text/html": [
       "<div>\n",
       "<style scoped>\n",
       "    .dataframe tbody tr th:only-of-type {\n",
       "        vertical-align: middle;\n",
       "    }\n",
       "\n",
       "    .dataframe tbody tr th {\n",
       "        vertical-align: top;\n",
       "    }\n",
       "\n",
       "    .dataframe thead th {\n",
       "        text-align: right;\n",
       "    }\n",
       "</style>\n",
       "<table border=\"1\" class=\"dataframe\">\n",
       "  <thead>\n",
       "    <tr style=\"text-align: right;\">\n",
       "      <th></th>\n",
       "      <th>GSM</th>\n",
       "      <th>Smoking Status</th>\n",
       "      <th>Gender</th>\n",
       "      <th>Age</th>\n",
       "      <th>cg00050873</th>\n",
       "      <th>cg00212031</th>\n",
       "      <th>cg00213748</th>\n",
       "      <th>cg00214611</th>\n",
       "      <th>cg00455876</th>\n",
       "      <th>cg01707559</th>\n",
       "      <th>...</th>\n",
       "      <th>cg02494853</th>\n",
       "      <th>cg02839557</th>\n",
       "      <th>cg02842889</th>\n",
       "      <th>cg03052502</th>\n",
       "      <th>cg03155755</th>\n",
       "      <th>cg03244189</th>\n",
       "      <th>cg03443143</th>\n",
       "      <th>cg03683899</th>\n",
       "      <th>cg03695421</th>\n",
       "      <th>cg03706273</th>\n",
       "    </tr>\n",
       "  </thead>\n",
       "  <tbody>\n",
       "    <tr>\n",
       "      <th>0</th>\n",
       "      <td>GSM1051525</td>\n",
       "      <td>current</td>\n",
       "      <td>0</td>\n",
       "      <td>67</td>\n",
       "      <td>0.607563</td>\n",
       "      <td>0.422843</td>\n",
       "      <td>0.372455</td>\n",
       "      <td>0.621562</td>\n",
       "      <td>0.290777</td>\n",
       "      <td>0.267143</td>\n",
       "      <td>...</td>\n",
       "      <td>0.067070</td>\n",
       "      <td>0.246993</td>\n",
       "      <td>0.469240</td>\n",
       "      <td>0.400247</td>\n",
       "      <td>0.415031</td>\n",
       "      <td>0.221433</td>\n",
       "      <td>0.475826</td>\n",
       "      <td>0.207724</td>\n",
       "      <td>0.209197</td>\n",
       "      <td>0.129983</td>\n",
       "    </tr>\n",
       "    <tr>\n",
       "      <th>1</th>\n",
       "      <td>GSM1051526</td>\n",
       "      <td>current</td>\n",
       "      <td>0</td>\n",
       "      <td>49</td>\n",
       "      <td>0.345054</td>\n",
       "      <td>0.568662</td>\n",
       "      <td>0.500600</td>\n",
       "      <td>0.498607</td>\n",
       "      <td>0.374591</td>\n",
       "      <td>0.190274</td>\n",
       "      <td>...</td>\n",
       "      <td>0.046939</td>\n",
       "      <td>0.236742</td>\n",
       "      <td>0.307467</td>\n",
       "      <td>0.377031</td>\n",
       "      <td>0.397371</td>\n",
       "      <td>0.217122</td>\n",
       "      <td>0.544469</td>\n",
       "      <td>0.184446</td>\n",
       "      <td>0.193773</td>\n",
       "      <td>0.098533</td>\n",
       "    </tr>\n",
       "    <tr>\n",
       "      <th>2</th>\n",
       "      <td>GSM1051527</td>\n",
       "      <td>current</td>\n",
       "      <td>0</td>\n",
       "      <td>53</td>\n",
       "      <td>0.321350</td>\n",
       "      <td>0.360909</td>\n",
       "      <td>0.352732</td>\n",
       "      <td>0.373824</td>\n",
       "      <td>0.230674</td>\n",
       "      <td>0.314705</td>\n",
       "      <td>...</td>\n",
       "      <td>0.038237</td>\n",
       "      <td>0.244612</td>\n",
       "      <td>0.357753</td>\n",
       "      <td>0.305044</td>\n",
       "      <td>0.521278</td>\n",
       "      <td>0.185049</td>\n",
       "      <td>0.537060</td>\n",
       "      <td>0.393123</td>\n",
       "      <td>0.268003</td>\n",
       "      <td>0.040248</td>\n",
       "    </tr>\n",
       "    <tr>\n",
       "      <th>3</th>\n",
       "      <td>GSM1051528</td>\n",
       "      <td>current</td>\n",
       "      <td>0</td>\n",
       "      <td>62</td>\n",
       "      <td>0.277268</td>\n",
       "      <td>0.304437</td>\n",
       "      <td>0.475235</td>\n",
       "      <td>0.486258</td>\n",
       "      <td>0.295181</td>\n",
       "      <td>0.295793</td>\n",
       "      <td>...</td>\n",
       "      <td>0.026716</td>\n",
       "      <td>0.001641</td>\n",
       "      <td>0.445739</td>\n",
       "      <td>0.271475</td>\n",
       "      <td>0.434492</td>\n",
       "      <td>0.165419</td>\n",
       "      <td>0.507917</td>\n",
       "      <td>0.281209</td>\n",
       "      <td>0.217857</td>\n",
       "      <td>0.101516</td>\n",
       "    </tr>\n",
       "    <tr>\n",
       "      <th>4</th>\n",
       "      <td>GSM1051529</td>\n",
       "      <td>never</td>\n",
       "      <td>0</td>\n",
       "      <td>33</td>\n",
       "      <td>0.413599</td>\n",
       "      <td>0.131251</td>\n",
       "      <td>0.367545</td>\n",
       "      <td>0.761167</td>\n",
       "      <td>0.235770</td>\n",
       "      <td>0.250526</td>\n",
       "      <td>...</td>\n",
       "      <td>0.037016</td>\n",
       "      <td>0.334320</td>\n",
       "      <td>0.395040</td>\n",
       "      <td>0.326553</td>\n",
       "      <td>0.430097</td>\n",
       "      <td>0.181135</td>\n",
       "      <td>0.405479</td>\n",
       "      <td>0.310794</td>\n",
       "      <td>0.280071</td>\n",
       "      <td>0.077857</td>\n",
       "    </tr>\n",
       "  </tbody>\n",
       "</table>\n",
       "<p>5 rows × 24 columns</p>\n",
       "</div>"
      ],
      "text/plain": [
       "          GSM Smoking Status  Gender  Age  cg00050873  cg00212031  cg00213748  \\\n",
       "0  GSM1051525        current       0   67    0.607563    0.422843    0.372455   \n",
       "1  GSM1051526        current       0   49    0.345054    0.568662    0.500600   \n",
       "2  GSM1051527        current       0   53    0.321350    0.360909    0.352732   \n",
       "3  GSM1051528        current       0   62    0.277268    0.304437    0.475235   \n",
       "4  GSM1051529          never       0   33    0.413599    0.131251    0.367545   \n",
       "\n",
       "   cg00214611  cg00455876  cg01707559  ...  cg02494853  cg02839557  \\\n",
       "0    0.621562    0.290777    0.267143  ...    0.067070    0.246993   \n",
       "1    0.498607    0.374591    0.190274  ...    0.046939    0.236742   \n",
       "2    0.373824    0.230674    0.314705  ...    0.038237    0.244612   \n",
       "3    0.486258    0.295181    0.295793  ...    0.026716    0.001641   \n",
       "4    0.761167    0.235770    0.250526  ...    0.037016    0.334320   \n",
       "\n",
       "   cg02842889  cg03052502  cg03155755  cg03244189  cg03443143  cg03683899  \\\n",
       "0    0.469240    0.400247    0.415031    0.221433    0.475826    0.207724   \n",
       "1    0.307467    0.377031    0.397371    0.217122    0.544469    0.184446   \n",
       "2    0.357753    0.305044    0.521278    0.185049    0.537060    0.393123   \n",
       "3    0.445739    0.271475    0.434492    0.165419    0.507917    0.281209   \n",
       "4    0.395040    0.326553    0.430097    0.181135    0.405479    0.310794   \n",
       "\n",
       "   cg03695421  cg03706273  \n",
       "0    0.209197    0.129983  \n",
       "1    0.193773    0.098533  \n",
       "2    0.268003    0.040248  \n",
       "3    0.217857    0.101516  \n",
       "4    0.280071    0.077857  \n",
       "\n",
       "[5 rows x 24 columns]"
      ]
     },
     "execution_count": 71,
     "metadata": {},
     "output_type": "execute_result"
    }
   ],
   "source": [
    "data0['Gender'] = data0['Gender'].map({' f':0,' m':1,' F':0,' M':1}).astype(int)\n",
    "data0.head()"
   ]
  },
  {
   "cell_type": "code",
   "execution_count": 19,
   "id": "revised-alfred",
   "metadata": {
    "execution": {
     "iopub.execute_input": "2021-06-18T12:08:06.984732Z",
     "iopub.status.busy": "2021-06-18T12:08:06.984102Z",
     "iopub.status.idle": "2021-06-18T12:08:06.988371Z",
     "shell.execute_reply": "2021-06-18T12:08:06.988854Z",
     "shell.execute_reply.started": "2021-06-18T12:07:21.398603Z"
    },
    "papermill": {
     "duration": 0.040861,
     "end_time": "2021-06-18T12:08:06.989052",
     "exception": false,
     "start_time": "2021-06-18T12:08:06.948191",
     "status": "completed"
    },
    "tags": []
   },
   "outputs": [
    {
     "data": {
      "text/plain": [
       "683"
      ]
     },
     "execution_count": 19,
     "metadata": {},
     "output_type": "execute_result"
    }
   ],
   "source": [
    "n=len(data0)\n",
    "n"
   ]
  },
  {
   "cell_type": "code",
   "execution_count": 20,
   "id": "warming-consequence",
   "metadata": {
    "execution": {
     "iopub.execute_input": "2021-06-18T12:08:07.059297Z",
     "iopub.status.busy": "2021-06-18T12:08:07.058292Z",
     "iopub.status.idle": "2021-06-18T12:08:07.063681Z",
     "shell.execute_reply": "2021-06-18T12:08:07.064202Z",
     "shell.execute_reply.started": "2021-06-18T12:07:21.412610Z"
    },
    "papermill": {
     "duration": 0.041824,
     "end_time": "2021-06-18T12:08:07.064375",
     "exception": false,
     "start_time": "2021-06-18T12:08:07.022551",
     "status": "completed"
    },
    "tags": []
   },
   "outputs": [
    {
     "data": {
      "text/plain": [
       "['current', 'never']"
      ]
     },
     "execution_count": 20,
     "metadata": {},
     "output_type": "execute_result"
    }
   ],
   "source": [
    "N=[]\n",
    "for i in range(n):\n",
    "    N+=[i]\n",
    "random.shuffle(N)\n",
    "\n",
    "name=sorted(data0['Smoking Status'].unique())\n",
    "name"
   ]
  },
  {
   "cell_type": "code",
   "execution_count": 21,
   "id": "stone-manor",
   "metadata": {
    "execution": {
     "iopub.execute_input": "2021-06-18T12:08:07.215898Z",
     "iopub.status.busy": "2021-06-18T12:08:07.215197Z",
     "iopub.status.idle": "2021-06-18T12:08:07.218982Z",
     "shell.execute_reply": "2021-06-18T12:08:07.218340Z",
     "shell.execute_reply.started": "2021-06-18T12:07:21.436949Z"
    },
    "papermill": {
     "duration": 0.043756,
     "end_time": "2021-06-18T12:08:07.219147",
     "exception": false,
     "start_time": "2021-06-18T12:08:07.175391",
     "status": "completed"
    },
    "tags": []
   },
   "outputs": [
    {
     "name": "stdout",
     "output_type": "stream",
     "text": [
      "{'current': 0, 'never': 1}\n"
     ]
    }
   ],
   "source": [
    "N=[]\n",
    "for i in range(2):\n",
    "    N+=[i]\n",
    "    \n",
    "normal_mapping=dict(zip(name,N )) \n",
    "reverse_mapping=dict(zip(N,name)) \n",
    "\n",
    "def mapper(value):\n",
    "    return reverse_mapping[value]\n",
    "\n",
    "print(normal_mapping)"
   ]
  },
  {
   "cell_type": "markdown",
   "id": "legitimate-prisoner",
   "metadata": {
    "papermill": {
     "duration": 0.033934,
     "end_time": "2021-06-18T12:08:07.287489",
     "exception": false,
     "start_time": "2021-06-18T12:08:07.253555",
     "status": "completed"
    },
    "tags": []
   },
   "source": [
    "# Target setting"
   ]
  },
  {
   "cell_type": "code",
   "execution_count": 28,
   "id": "dress-session",
   "metadata": {
    "execution": {
     "iopub.execute_input": "2021-06-18T12:08:07.380901Z",
     "iopub.status.busy": "2021-06-18T12:08:07.379845Z",
     "iopub.status.idle": "2021-06-18T12:08:07.384547Z",
     "shell.execute_reply": "2021-06-18T12:08:07.383897Z",
     "shell.execute_reply.started": "2021-06-18T12:07:21.447783Z"
    },
    "papermill": {
     "duration": 0.06184,
     "end_time": "2021-06-18T12:08:07.384688",
     "exception": false,
     "start_time": "2021-06-18T12:08:07.322848",
     "status": "completed"
    },
    "tags": []
   },
   "outputs": [
    {
     "data": {
      "text/html": [
       "<div>\n",
       "<style scoped>\n",
       "    .dataframe tbody tr th:only-of-type {\n",
       "        vertical-align: middle;\n",
       "    }\n",
       "\n",
       "    .dataframe tbody tr th {\n",
       "        vertical-align: top;\n",
       "    }\n",
       "\n",
       "    .dataframe thead th {\n",
       "        text-align: right;\n",
       "    }\n",
       "</style>\n",
       "<table border=\"1\" class=\"dataframe\">\n",
       "  <thead>\n",
       "    <tr style=\"text-align: right;\">\n",
       "      <th></th>\n",
       "      <th>Gender</th>\n",
       "      <th>Age</th>\n",
       "      <th>cg00050873</th>\n",
       "      <th>cg00212031</th>\n",
       "      <th>cg00213748</th>\n",
       "      <th>cg00214611</th>\n",
       "      <th>cg00455876</th>\n",
       "      <th>cg01707559</th>\n",
       "      <th>cg02004872</th>\n",
       "      <th>cg02011394</th>\n",
       "      <th>...</th>\n",
       "      <th>cg02494853</th>\n",
       "      <th>cg02839557</th>\n",
       "      <th>cg02842889</th>\n",
       "      <th>cg03052502</th>\n",
       "      <th>cg03155755</th>\n",
       "      <th>cg03244189</th>\n",
       "      <th>cg03443143</th>\n",
       "      <th>cg03683899</th>\n",
       "      <th>cg03695421</th>\n",
       "      <th>cg03706273</th>\n",
       "    </tr>\n",
       "  </thead>\n",
       "  <tbody>\n",
       "    <tr>\n",
       "      <th>0</th>\n",
       "      <td>0</td>\n",
       "      <td>67</td>\n",
       "      <td>0.607563</td>\n",
       "      <td>0.422843</td>\n",
       "      <td>0.372455</td>\n",
       "      <td>0.621562</td>\n",
       "      <td>0.290777</td>\n",
       "      <td>0.267143</td>\n",
       "      <td>0.179144</td>\n",
       "      <td>0.480252</td>\n",
       "      <td>...</td>\n",
       "      <td>0.067070</td>\n",
       "      <td>0.246993</td>\n",
       "      <td>0.469240</td>\n",
       "      <td>0.400247</td>\n",
       "      <td>0.415031</td>\n",
       "      <td>0.221433</td>\n",
       "      <td>0.475826</td>\n",
       "      <td>0.207724</td>\n",
       "      <td>0.209197</td>\n",
       "      <td>0.129983</td>\n",
       "    </tr>\n",
       "    <tr>\n",
       "      <th>1</th>\n",
       "      <td>0</td>\n",
       "      <td>49</td>\n",
       "      <td>0.345054</td>\n",
       "      <td>0.568662</td>\n",
       "      <td>0.500600</td>\n",
       "      <td>0.498607</td>\n",
       "      <td>0.374591</td>\n",
       "      <td>0.190274</td>\n",
       "      <td>0.155977</td>\n",
       "      <td>0.418081</td>\n",
       "      <td>...</td>\n",
       "      <td>0.046939</td>\n",
       "      <td>0.236742</td>\n",
       "      <td>0.307467</td>\n",
       "      <td>0.377031</td>\n",
       "      <td>0.397371</td>\n",
       "      <td>0.217122</td>\n",
       "      <td>0.544469</td>\n",
       "      <td>0.184446</td>\n",
       "      <td>0.193773</td>\n",
       "      <td>0.098533</td>\n",
       "    </tr>\n",
       "    <tr>\n",
       "      <th>2</th>\n",
       "      <td>0</td>\n",
       "      <td>53</td>\n",
       "      <td>0.321350</td>\n",
       "      <td>0.360909</td>\n",
       "      <td>0.352732</td>\n",
       "      <td>0.373824</td>\n",
       "      <td>0.230674</td>\n",
       "      <td>0.314705</td>\n",
       "      <td>0.105745</td>\n",
       "      <td>0.615103</td>\n",
       "      <td>...</td>\n",
       "      <td>0.038237</td>\n",
       "      <td>0.244612</td>\n",
       "      <td>0.357753</td>\n",
       "      <td>0.305044</td>\n",
       "      <td>0.521278</td>\n",
       "      <td>0.185049</td>\n",
       "      <td>0.537060</td>\n",
       "      <td>0.393123</td>\n",
       "      <td>0.268003</td>\n",
       "      <td>0.040248</td>\n",
       "    </tr>\n",
       "    <tr>\n",
       "      <th>3</th>\n",
       "      <td>0</td>\n",
       "      <td>62</td>\n",
       "      <td>0.277268</td>\n",
       "      <td>0.304437</td>\n",
       "      <td>0.475235</td>\n",
       "      <td>0.486258</td>\n",
       "      <td>0.295181</td>\n",
       "      <td>0.295793</td>\n",
       "      <td>0.111286</td>\n",
       "      <td>0.301020</td>\n",
       "      <td>...</td>\n",
       "      <td>0.026716</td>\n",
       "      <td>0.001641</td>\n",
       "      <td>0.445739</td>\n",
       "      <td>0.271475</td>\n",
       "      <td>0.434492</td>\n",
       "      <td>0.165419</td>\n",
       "      <td>0.507917</td>\n",
       "      <td>0.281209</td>\n",
       "      <td>0.217857</td>\n",
       "      <td>0.101516</td>\n",
       "    </tr>\n",
       "    <tr>\n",
       "      <th>4</th>\n",
       "      <td>0</td>\n",
       "      <td>33</td>\n",
       "      <td>0.413599</td>\n",
       "      <td>0.131251</td>\n",
       "      <td>0.367545</td>\n",
       "      <td>0.761167</td>\n",
       "      <td>0.235770</td>\n",
       "      <td>0.250526</td>\n",
       "      <td>0.169108</td>\n",
       "      <td>0.392975</td>\n",
       "      <td>...</td>\n",
       "      <td>0.037016</td>\n",
       "      <td>0.334320</td>\n",
       "      <td>0.395040</td>\n",
       "      <td>0.326553</td>\n",
       "      <td>0.430097</td>\n",
       "      <td>0.181135</td>\n",
       "      <td>0.405479</td>\n",
       "      <td>0.310794</td>\n",
       "      <td>0.280071</td>\n",
       "      <td>0.077857</td>\n",
       "    </tr>\n",
       "  </tbody>\n",
       "</table>\n",
       "<p>5 rows × 22 columns</p>\n",
       "</div>"
      ],
      "text/plain": [
       "   Gender  Age  cg00050873  cg00212031  cg00213748  cg00214611  cg00455876  \\\n",
       "0       0   67    0.607563    0.422843    0.372455    0.621562    0.290777   \n",
       "1       0   49    0.345054    0.568662    0.500600    0.498607    0.374591   \n",
       "2       0   53    0.321350    0.360909    0.352732    0.373824    0.230674   \n",
       "3       0   62    0.277268    0.304437    0.475235    0.486258    0.295181   \n",
       "4       0   33    0.413599    0.131251    0.367545    0.761167    0.235770   \n",
       "\n",
       "   cg01707559  cg02004872  cg02011394  ...  cg02494853  cg02839557  \\\n",
       "0    0.267143    0.179144    0.480252  ...    0.067070    0.246993   \n",
       "1    0.190274    0.155977    0.418081  ...    0.046939    0.236742   \n",
       "2    0.314705    0.105745    0.615103  ...    0.038237    0.244612   \n",
       "3    0.295793    0.111286    0.301020  ...    0.026716    0.001641   \n",
       "4    0.250526    0.169108    0.392975  ...    0.037016    0.334320   \n",
       "\n",
       "   cg02842889  cg03052502  cg03155755  cg03244189  cg03443143  cg03683899  \\\n",
       "0    0.469240    0.400247    0.415031    0.221433    0.475826    0.207724   \n",
       "1    0.307467    0.377031    0.397371    0.217122    0.544469    0.184446   \n",
       "2    0.357753    0.305044    0.521278    0.185049    0.537060    0.393123   \n",
       "3    0.445739    0.271475    0.434492    0.165419    0.507917    0.281209   \n",
       "4    0.395040    0.326553    0.430097    0.181135    0.405479    0.310794   \n",
       "\n",
       "   cg03695421  cg03706273  \n",
       "0    0.209197    0.129983  \n",
       "1    0.193773    0.098533  \n",
       "2    0.268003    0.040248  \n",
       "3    0.217857    0.101516  \n",
       "4    0.280071    0.077857  \n",
       "\n",
       "[5 rows x 22 columns]"
      ]
     },
     "execution_count": 28,
     "metadata": {},
     "output_type": "execute_result"
    }
   ],
   "source": [
    "datay0=data0['Smoking Status'].map(normal_mapping) #predict Smoking Status\n",
    "datax0=data0.drop(['Smoking Status','GSM'],axis=1)\n",
    "datax0.head()"
   ]
  },
  {
   "cell_type": "code",
   "execution_count": 29,
   "id": "egyptian-thousand",
   "metadata": {
    "execution": {
     "iopub.execute_input": "2021-06-18T12:08:07.458856Z",
     "iopub.status.busy": "2021-06-18T12:08:07.458183Z",
     "iopub.status.idle": "2021-06-18T12:08:07.461783Z",
     "shell.execute_reply": "2021-06-18T12:08:07.461145Z",
     "shell.execute_reply.started": "2021-06-18T12:07:21.474638Z"
    },
    "papermill": {
     "duration": 0.042652,
     "end_time": "2021-06-18T12:08:07.461919",
     "exception": false,
     "start_time": "2021-06-18T12:08:07.419267",
     "status": "completed"
    },
    "tags": []
   },
   "outputs": [],
   "source": [
    "datax2=np.array(datax0)\n",
    "datay2=np.array(datay0)\n",
    "\n",
    "m=len(datax2)\n",
    "M=[]\n",
    "for i in range(m):\n",
    "    M+=[i]\n",
    "random.shuffle(M)"
   ]
  },
  {
   "cell_type": "markdown",
   "id": "modular-dictionary",
   "metadata": {
    "papermill": {
     "duration": 0.034351,
     "end_time": "2021-06-18T12:08:07.609751",
     "exception": false,
     "start_time": "2021-06-18T12:08:07.575400",
     "status": "completed"
    },
    "tags": []
   },
   "source": [
    "# Train and test setting"
   ]
  },
  {
   "cell_type": "code",
   "execution_count": 31,
   "id": "configured-partnership",
   "metadata": {
    "execution": {
     "iopub.execute_input": "2021-06-18T12:08:07.685644Z",
     "iopub.status.busy": "2021-06-18T12:08:07.684968Z",
     "iopub.status.idle": "2021-06-18T12:08:07.688730Z",
     "shell.execute_reply": "2021-06-18T12:08:07.688113Z",
     "shell.execute_reply.started": "2021-06-18T12:07:21.497423Z"
    },
    "papermill": {
     "duration": 0.043454,
     "end_time": "2021-06-18T12:08:07.688864",
     "exception": false,
     "start_time": "2021-06-18T12:08:07.645410",
     "status": "completed"
    },
    "tags": []
   },
   "outputs": [],
   "source": [
    "train=datax2[M[0:(n//10)*8]]\n",
    "test=datax2[M[(n//10)*8:]]\n",
    "trainy=datay2[M[0:(n//10)*8]]\n",
    "testy=datay2[M[(n//10)*8:]]"
   ]
  },
  {
   "cell_type": "code",
   "execution_count": 32,
   "id": "preceding-virginia",
   "metadata": {
    "execution": {
     "iopub.execute_input": "2021-06-18T12:08:07.764760Z",
     "iopub.status.busy": "2021-06-18T12:08:07.764112Z",
     "iopub.status.idle": "2021-06-18T12:08:07.766661Z",
     "shell.execute_reply": "2021-06-18T12:08:07.767152Z",
     "shell.execute_reply.started": "2021-06-18T12:07:21.510287Z"
    },
    "papermill": {
     "duration": 0.044043,
     "end_time": "2021-06-18T12:08:07.767332",
     "exception": false,
     "start_time": "2021-06-18T12:08:07.723289",
     "status": "completed"
    },
    "tags": []
   },
   "outputs": [],
   "source": [
    "df_columns = [ 'Gender', 'Age', 'cg00050873', 'cg00212031', 'cg00213748', \n",
    "    'cg00214611', 'cg00455876', 'cg01707559', 'cg02004872', 'cg02011394',        \n",
    "    'cg02050847', 'cg02233190', 'cg02494853', 'cg02839557', 'cg02842889', \n",
    "    'cg03052502', 'cg03155755', 'cg03244189', 'cg03443143', 'cg03683899', \n",
    "    'cg03695421', 'cg03706273']"
   ]
  },
  {
   "cell_type": "code",
   "execution_count": 33,
   "id": "alpine-syntax",
   "metadata": {
    "execution": {
     "iopub.execute_input": "2021-06-18T12:08:07.841589Z",
     "iopub.status.busy": "2021-06-18T12:08:07.840860Z",
     "iopub.status.idle": "2021-06-18T12:08:07.844548Z",
     "shell.execute_reply": "2021-06-18T12:08:07.843844Z",
     "shell.execute_reply.started": "2021-06-18T12:07:21.523563Z"
    },
    "papermill": {
     "duration": 0.042669,
     "end_time": "2021-06-18T12:08:07.844685",
     "exception": false,
     "start_time": "2021-06-18T12:08:07.802016",
     "status": "completed"
    },
    "tags": []
   },
   "outputs": [],
   "source": [
    "train_df=pd.DataFrame(train)\n",
    "test_df=pd.DataFrame(test)"
   ]
  },
  {
   "cell_type": "code",
   "execution_count": 34,
   "id": "sunrise-composite",
   "metadata": {
    "execution": {
     "iopub.execute_input": "2021-06-18T12:08:07.919780Z",
     "iopub.status.busy": "2021-06-18T12:08:07.919110Z",
     "iopub.status.idle": "2021-06-18T12:08:07.921644Z",
     "shell.execute_reply": "2021-06-18T12:08:07.921105Z",
     "shell.execute_reply.started": "2021-06-18T12:07:21.534519Z"
    },
    "papermill": {
     "duration": 0.042296,
     "end_time": "2021-06-18T12:08:07.921790",
     "exception": false,
     "start_time": "2021-06-18T12:08:07.879494",
     "status": "completed"
    },
    "tags": []
   },
   "outputs": [],
   "source": [
    "train_df.columns=df_columns\n",
    "test_df.columns=df_columns"
   ]
  },
  {
   "cell_type": "code",
   "execution_count": 35,
   "id": "important-acoustic",
   "metadata": {
    "execution": {
     "iopub.execute_input": "2021-06-18T12:08:07.995778Z",
     "iopub.status.busy": "2021-06-18T12:08:07.995137Z",
     "iopub.status.idle": "2021-06-18T12:08:07.998433Z",
     "shell.execute_reply": "2021-06-18T12:08:07.997782Z",
     "shell.execute_reply.started": "2021-06-18T12:07:21.546012Z"
    },
    "papermill": {
     "duration": 0.042434,
     "end_time": "2021-06-18T12:08:07.998571",
     "exception": false,
     "start_time": "2021-06-18T12:08:07.956137",
     "status": "completed"
    },
    "tags": []
   },
   "outputs": [],
   "source": [
    "def create_numeric_feature(input_df):\n",
    "    use_columns = df_columns \n",
    "    return input_df[use_columns].copy()"
   ]
  },
  {
   "cell_type": "code",
   "execution_count": 36,
   "id": "suited-meeting",
   "metadata": {
    "execution": {
     "iopub.execute_input": "2021-06-18T12:08:08.076026Z",
     "iopub.status.busy": "2021-06-18T12:08:08.075337Z",
     "iopub.status.idle": "2021-06-18T12:08:08.078773Z",
     "shell.execute_reply": "2021-06-18T12:08:08.078232Z",
     "shell.execute_reply.started": "2021-06-18T12:07:21.556222Z"
    },
    "papermill": {
     "duration": 0.046198,
     "end_time": "2021-06-18T12:08:08.078910",
     "exception": false,
     "start_time": "2021-06-18T12:08:08.032712",
     "status": "completed"
    },
    "tags": []
   },
   "outputs": [],
   "source": [
    "from contextlib import contextmanager\n",
    "from time import time\n",
    "\n",
    "class Timer:\n",
    "    def __init__(self, logger=None, format_str='{:.3f}[s]', prefix=None, suffix=None, sep=' '):\n",
    "\n",
    "        if prefix: format_str = str(prefix) + sep + format_str\n",
    "        if suffix: format_str = format_str + sep + str(suffix)\n",
    "        self.format_str = format_str\n",
    "        self.logger = logger\n",
    "        self.start = None\n",
    "        self.end = None\n",
    "\n",
    "    @property\n",
    "    def duration(self):\n",
    "        if self.end is None:\n",
    "            return 0\n",
    "        return self.end - self.start\n",
    "\n",
    "    def __enter__(self):\n",
    "        self.start = time()\n",
    "\n",
    "    def __exit__(self, exc_type, exc_val, exc_tb):\n",
    "        self.end = time()\n",
    "        out_str = self.format_str.format(self.duration)\n",
    "        if self.logger:\n",
    "            self.logger.info(out_str)\n",
    "        else:\n",
    "            print(out_str)"
   ]
  },
  {
   "cell_type": "code",
   "execution_count": 37,
   "id": "rural-commercial",
   "metadata": {
    "execution": {
     "iopub.execute_input": "2021-06-18T12:08:08.155244Z",
     "iopub.status.busy": "2021-06-18T12:08:08.154519Z",
     "iopub.status.idle": "2021-06-18T12:08:08.156985Z",
     "shell.execute_reply": "2021-06-18T12:08:08.156467Z",
     "shell.execute_reply.started": "2021-06-18T12:07:21.569550Z"
    },
    "papermill": {
     "duration": 0.04348,
     "end_time": "2021-06-18T12:08:08.157140",
     "exception": false,
     "start_time": "2021-06-18T12:08:08.113660",
     "status": "completed"
    },
    "tags": []
   },
   "outputs": [],
   "source": [
    "from tqdm import tqdm\n",
    "\n",
    "def to_feature(input_df):\n",
    "\n",
    "    processors = [\n",
    "        create_numeric_feature,\n",
    "    ]\n",
    "    \n",
    "    out_df = pd.DataFrame()\n",
    "    \n",
    "    for func in tqdm(processors, total=len(processors)):\n",
    "        with Timer(prefix='create' + func.__name__ + ' '):\n",
    "            _df = func(input_df)\n",
    "\n",
    "        assert len(_df) == len(input_df), func.__name__\n",
    "        out_df = pd.concat([out_df, _df], axis=1)\n",
    "        \n",
    "    return out_df"
   ]
  },
  {
   "cell_type": "code",
   "execution_count": 38,
   "id": "hired-underground",
   "metadata": {
    "execution": {
     "iopub.execute_input": "2021-06-18T12:08:08.232480Z",
     "iopub.status.busy": "2021-06-18T12:08:08.231682Z",
     "iopub.status.idle": "2021-06-18T12:08:08.244978Z",
     "shell.execute_reply": "2021-06-18T12:08:08.246006Z",
     "shell.execute_reply.started": "2021-06-18T12:07:21.582355Z"
    },
    "papermill": {
     "duration": 0.054578,
     "end_time": "2021-06-18T12:08:08.246253",
     "exception": false,
     "start_time": "2021-06-18T12:08:08.191675",
     "status": "completed"
    },
    "tags": []
   },
   "outputs": [
    {
     "name": "stderr",
     "output_type": "stream",
     "text": [
      "100%|████████████████████████████████████████████████████████████████████| 1/1 [00:00<00:00, 350.69it/s]\n"
     ]
    },
    {
     "name": "stdout",
     "output_type": "stream",
     "text": [
      "createcreate_numeric_feature  0.002[s]\n"
     ]
    },
    {
     "name": "stderr",
     "output_type": "stream",
     "text": [
      "100%|████████████████████████████████████████████████████████████████████| 1/1 [00:00<00:00, 544.50it/s]"
     ]
    },
    {
     "name": "stdout",
     "output_type": "stream",
     "text": [
      "createcreate_numeric_feature  0.001[s]\n"
     ]
    },
    {
     "name": "stderr",
     "output_type": "stream",
     "text": [
      "\n"
     ]
    }
   ],
   "source": [
    "train_feat_df = to_feature(train_df)\n",
    "test_feat_df = to_feature(test_df)"
   ]
  },
  {
   "cell_type": "markdown",
   "id": "departmental-federal",
   "metadata": {
    "papermill": {
     "duration": 0.035941,
     "end_time": "2021-06-18T12:08:08.319324",
     "exception": false,
     "start_time": "2021-06-18T12:08:08.283383",
     "status": "completed"
    },
    "tags": []
   },
   "source": [
    "# Model"
   ]
  },
  {
   "cell_type": "code",
   "execution_count": 39,
   "id": "rental-movie",
   "metadata": {
    "execution": {
     "iopub.execute_input": "2021-06-18T12:08:08.403682Z",
     "iopub.status.busy": "2021-06-18T12:08:08.402974Z",
     "iopub.status.idle": "2021-06-18T12:08:08.406153Z",
     "shell.execute_reply": "2021-06-18T12:08:08.405623Z",
     "shell.execute_reply.started": "2021-06-18T12:07:21.604482Z"
    },
    "papermill": {
     "duration": 0.051034,
     "end_time": "2021-06-18T12:08:08.406304",
     "exception": false,
     "start_time": "2021-06-18T12:08:08.355270",
     "status": "completed"
    },
    "tags": []
   },
   "outputs": [],
   "source": [
    "import lightgbm as lgbm\n",
    "from sklearn.metrics import mean_squared_error\n",
    "\n",
    "def fit_lgbm(X, y, cv, \n",
    "             params: dict=None, \n",
    "             verbose: int=50):\n",
    "\n",
    "    if params is None:\n",
    "        params = {}\n",
    "\n",
    "    models = []\n",
    "    oof_pred = np.zeros_like(y, dtype=np.float)\n",
    "\n",
    "    for i, (idx_train, idx_valid) in enumerate(cv): \n",
    "        x_train, y_train = X[idx_train], y[idx_train]\n",
    "        x_valid, y_valid = X[idx_valid], y[idx_valid]\n",
    "\n",
    "        clf = lgbm.LGBMRegressor(**params)\n",
    "        \n",
    "        with Timer(prefix='fit fold={} '.format(i)):\n",
    "            clf.fit(x_train, y_train, \n",
    "                    eval_set=[(x_valid, y_valid)],  \n",
    "                    early_stopping_rounds=100,\n",
    "                    verbose=verbose)\n",
    "\n",
    "        pred_i = clf.predict(x_valid)\n",
    "        oof_pred[idx_valid] = pred_i\n",
    "        models.append(clf)\n",
    "        print(f'Fold {i} RMSLE: {mean_squared_error(y_valid, pred_i) ** .5:.4f}')\n",
    "        print()\n",
    "\n",
    "    score = mean_squared_error(y, oof_pred) ** .5\n",
    "    print('-' * 50)\n",
    "    print('FINISHED | Whole RMSLE: {:.4f}'.format(score))\n",
    "    return oof_pred, models"
   ]
  },
  {
   "cell_type": "code",
   "execution_count": 40,
   "id": "sixth-clothing",
   "metadata": {
    "execution": {
     "iopub.execute_input": "2021-06-18T12:08:08.485093Z",
     "iopub.status.busy": "2021-06-18T12:08:08.484339Z",
     "iopub.status.idle": "2021-06-18T12:08:08.487694Z",
     "shell.execute_reply": "2021-06-18T12:08:08.487121Z",
     "shell.execute_reply.started": "2021-06-18T12:07:21.618580Z"
    },
    "papermill": {
     "duration": 0.044898,
     "end_time": "2021-06-18T12:08:08.487835",
     "exception": false,
     "start_time": "2021-06-18T12:08:08.442937",
     "status": "completed"
    },
    "tags": []
   },
   "outputs": [],
   "source": [
    "params = {\n",
    "    'objective': 'rmse', \n",
    "    'learning_rate': .1,\n",
    "    'reg_lambda': 1.,\n",
    "    'reg_alpha': .1,\n",
    "    'max_depth': 5, \n",
    "    'n_estimators': 10000, \n",
    "    'colsample_bytree': .5, \n",
    "    'min_child_samples': 10,\n",
    "    'subsample_freq': 3,\n",
    "    'subsample': .9,\n",
    "    'importance_type': 'gain', \n",
    "    'random_state': 71,\n",
    "}"
   ]
  },
  {
   "cell_type": "code",
   "execution_count": 41,
   "id": "pressing-train",
   "metadata": {
    "execution": {
     "iopub.execute_input": "2021-06-18T12:08:08.564912Z",
     "iopub.status.busy": "2021-06-18T12:08:08.564286Z",
     "iopub.status.idle": "2021-06-18T12:08:08.567356Z",
     "shell.execute_reply": "2021-06-18T12:08:08.566807Z",
     "shell.execute_reply.started": "2021-06-18T12:07:21.628534Z"
    },
    "papermill": {
     "duration": 0.043188,
     "end_time": "2021-06-18T12:08:08.567499",
     "exception": false,
     "start_time": "2021-06-18T12:08:08.524311",
     "status": "completed"
    },
    "tags": []
   },
   "outputs": [],
   "source": [
    "y = trainy"
   ]
  },
  {
   "cell_type": "code",
   "execution_count": 44,
   "id": "occupied-veteran",
   "metadata": {
    "execution": {
     "iopub.execute_input": "2021-06-18T12:08:08.646153Z",
     "iopub.status.busy": "2021-06-18T12:08:08.645414Z",
     "iopub.status.idle": "2021-06-18T12:08:09.525022Z",
     "shell.execute_reply": "2021-06-18T12:08:09.525765Z",
     "shell.execute_reply.started": "2021-06-18T12:07:21.638460Z"
    },
    "papermill": {
     "duration": 0.922703,
     "end_time": "2021-06-18T12:08:09.526035",
     "exception": false,
     "start_time": "2021-06-18T12:08:08.603332",
     "status": "completed"
    },
    "tags": []
   },
   "outputs": [
    {
     "name": "stdout",
     "output_type": "stream",
     "text": [
      "fit fold=0  0.114[s]\n",
      "Fold 0 RMSLE: 0.4189\n",
      "\n",
      "fit fold=1  0.072[s]\n",
      "Fold 1 RMSLE: 0.4564\n",
      "\n",
      "fit fold=2  0.072[s]\n",
      "Fold 2 RMSLE: 0.4003\n",
      "\n",
      "fit fold=3  0.082[s]\n",
      "Fold 3 RMSLE: 0.4167\n",
      "\n",
      "fit fold=4  0.097[s]\n",
      "Fold 4 RMSLE: 0.4112\n",
      "\n",
      "fit fold=5  0.079[s]\n",
      "Fold 5 RMSLE: 0.4642\n",
      "\n",
      "fit fold=6  0.097[s]\n",
      "Fold 6 RMSLE: 0.4520\n",
      "\n",
      "fit fold=7  0.077[s]\n",
      "Fold 7 RMSLE: 0.4660\n",
      "\n",
      "fit fold=8  0.069[s]\n",
      "Fold 8 RMSLE: 0.4301\n",
      "\n",
      "fit fold=9  0.087[s]\n",
      "Fold 9 RMSLE: 0.4305\n",
      "\n",
      "--------------------------------------------------\n",
      "FINISHED | Whole RMSLE: 0.4351\n"
     ]
    }
   ],
   "source": [
    "from sklearn.model_selection import KFold\n",
    "\n",
    "import warnings\n",
    "warnings.filterwarnings('ignore')\n",
    "\n",
    "fold = KFold(n_splits=10, shuffle=True, random_state=71)\n",
    "cv = list(fold.split(train_feat_df, y))\n",
    "oof, models = fit_lgbm(train_feat_df.values, y, cv, params=params, verbose=500)"
   ]
  },
  {
   "cell_type": "code",
   "execution_count": 45,
   "id": "colored-initial",
   "metadata": {
    "execution": {
     "iopub.execute_input": "2021-06-18T12:08:09.612154Z",
     "iopub.status.busy": "2021-06-18T12:08:09.611442Z",
     "iopub.status.idle": "2021-06-18T12:08:09.808489Z",
     "shell.execute_reply": "2021-06-18T12:08:09.807885Z",
     "shell.execute_reply.started": "2021-06-18T12:07:22.365755Z"
    },
    "papermill": {
     "duration": 0.241112,
     "end_time": "2021-06-18T12:08:09.808629",
     "exception": false,
     "start_time": "2021-06-18T12:08:09.567517",
     "status": "completed"
    },
    "tags": []
   },
   "outputs": [
    {
     "data": {
      "text/plain": [
       "<matplotlib.collections.PathCollection at 0x7fedf60f8d60>"
      ]
     },
     "execution_count": 45,
     "metadata": {},
     "output_type": "execute_result"
    },
    {
     "data": {
      "image/png": "[encoded data removed]",
      "text/plain": [
       "<Figure size 800x800 with 1 Axes>"
      ]
     },
     "metadata": {},
     "output_type": "display_data"
    }
   ],
   "source": [
    "fig,ax = plt.subplots(figsize=(8,8))\n",
    "ax.set_xlabel('oof',fontsize=20)\n",
    "ax.set_ylabel('train_y',fontsize=20)\n",
    "ax.scatter(oof,y)"
   ]
  },
  {
   "cell_type": "markdown",
   "id": "opening-oregon",
   "metadata": {
    "papermill": {
     "duration": 0.038237,
     "end_time": "2021-06-18T12:08:09.886132",
     "exception": false,
     "start_time": "2021-06-18T12:08:09.847895",
     "status": "completed"
    },
    "tags": []
   },
   "source": [
    "# Visualize Importance"
   ]
  },
  {
   "cell_type": "code",
   "execution_count": 46,
   "id": "democratic-custody",
   "metadata": {
    "execution": {
     "iopub.execute_input": "2021-06-18T12:08:09.990464Z",
     "iopub.status.busy": "2021-06-18T12:08:09.982069Z",
     "iopub.status.idle": "2021-06-18T12:08:10.534861Z",
     "shell.execute_reply": "2021-06-18T12:08:10.534215Z",
     "shell.execute_reply.started": "2021-06-18T12:07:22.571315Z"
    },
    "papermill": {
     "duration": 0.610165,
     "end_time": "2021-06-18T12:08:10.535030",
     "exception": false,
     "start_time": "2021-06-18T12:08:09.924865",
     "status": "completed"
    },
    "tags": []
   },
   "outputs": [
    {
     "data": {
      "image/png": "[encoded data removed]",
      "text/plain": [
       "<Figure size 800x600 with 1 Axes>"
      ]
     },
     "metadata": {},
     "output_type": "display_data"
    }
   ],
   "source": [
    "def visualize_importance(models, feat_train_df):\n",
    "\n",
    "    feature_importance_df = pd.DataFrame()\n",
    "    for i, model in enumerate(models):\n",
    "        _df = pd.DataFrame()\n",
    "        _df['feature_importance'] = model.feature_importances_\n",
    "        _df['column'] = feat_train_df.columns\n",
    "        _df['fold'] = i + 1\n",
    "        feature_importance_df = pd.concat([feature_importance_df, _df], \n",
    "                                          axis=0, ignore_index=True)\n",
    "\n",
    "    order = feature_importance_df.groupby('column')\\\n",
    "        .sum()[['feature_importance']]\\\n",
    "        .sort_values('feature_importance', ascending=False).index[:50]\n",
    "\n",
    "    fig, ax = plt.subplots(figsize=(8, max(6, len(order) * .25)))\n",
    "    sns.boxenplot(data=feature_importance_df, \n",
    "                  x='feature_importance', \n",
    "                  y='column', \n",
    "                  order=order, \n",
    "                  ax=ax, \n",
    "                  palette='viridis', \n",
    "                  orient='h')\n",
    "    ax.tick_params(axis='x', rotation=0)\n",
    "    ax.set_title('Importance')\n",
    "    ax.grid()\n",
    "    fig.tight_layout()\n",
    "    return fig,ax\n",
    "\n",
    "fig, ax = visualize_importance(models, train_feat_df)"
   ]
  },
  {
   "cell_type": "markdown",
   "id": "remarkable-headquarters",
   "metadata": {
    "papermill": {
     "duration": 0.041955,
     "end_time": "2021-06-18T12:08:10.617306",
     "exception": false,
     "start_time": "2021-06-18T12:08:10.575351",
     "status": "completed"
    },
    "tags": []
   },
   "source": [
    "### 'cg01707559' is the most imprtant factor for smokers among The CpG sites."
   ]
  },
  {
   "cell_type": "code",
   "execution_count": 47,
   "id": "spatial-anthropology",
   "metadata": {
    "execution": {
     "iopub.execute_input": "2021-06-18T12:08:10.703295Z",
     "iopub.status.busy": "2021-06-18T12:08:10.702591Z",
     "iopub.status.idle": "2021-06-18T12:08:10.705272Z",
     "shell.execute_reply": "2021-06-18T12:08:10.705757Z",
     "shell.execute_reply.started": "2021-06-18T12:07:23.209778Z"
    },
    "papermill": {
     "duration": 0.048282,
     "end_time": "2021-06-18T12:08:10.705937",
     "exception": false,
     "start_time": "2021-06-18T12:08:10.657655",
     "status": "completed"
    },
    "tags": []
   },
   "outputs": [],
   "source": [
    "def revert_to_real(preda):\n",
    "    predb = np.where(preda<0.5,0,1)\n",
    "    return predb"
   ]
  },
  {
   "cell_type": "markdown",
   "id": "bridal-skill",
   "metadata": {
    "papermill": {
     "duration": 0.039679,
     "end_time": "2021-06-18T12:08:10.785785",
     "exception": false,
     "start_time": "2021-06-18T12:08:10.746106",
     "status": "completed"
    },
    "tags": []
   },
   "source": [
    "# Predict"
   ]
  },
  {
   "cell_type": "code",
   "execution_count": 48,
   "id": "nonprofit-spouse",
   "metadata": {
    "execution": {
     "iopub.execute_input": "2021-06-18T12:08:10.873238Z",
     "iopub.status.busy": "2021-06-18T12:08:10.872455Z",
     "iopub.status.idle": "2021-06-18T12:08:10.884041Z",
     "shell.execute_reply": "2021-06-18T12:08:10.885080Z",
     "shell.execute_reply.started": "2021-06-18T12:07:23.216990Z"
    },
    "papermill": {
     "duration": 0.059163,
     "end_time": "2021-06-18T12:08:10.885290",
     "exception": false,
     "start_time": "2021-06-18T12:08:10.826127",
     "status": "completed"
    },
    "tags": []
   },
   "outputs": [
    {
     "data": {
      "text/plain": [
       "array([0, 0, 0, 0, 0, 0, 0, 0, 0, 0, 0, 0, 0, 0, 0, 0, 0, 0, 0, 0, 0, 0,\n",
       "       0, 0, 0, 0, 0, 0, 0, 0, 0, 0, 0, 0, 0, 0, 0, 0, 0, 0, 0, 0, 0, 0,\n",
       "       0, 0, 0, 0, 0, 0, 0, 0, 0, 0, 0, 0, 0, 0, 0, 0, 0, 0, 0, 0, 0, 0,\n",
       "       0, 0, 0, 0, 0, 0, 0, 0, 0, 0, 0, 0, 0, 0, 0, 0, 0, 0, 0, 0, 0, 0,\n",
       "       0, 0, 0, 0, 0, 0, 0, 0, 0, 0, 0, 0, 0, 0, 0, 0, 0, 0, 0, 0, 0, 0,\n",
       "       0, 0, 0, 0, 0, 0, 0, 0, 0, 0, 0, 0, 0, 0, 0, 0, 0, 0, 0, 0, 0, 0,\n",
       "       0, 0, 0, 0, 0, 0, 0])"
      ]
     },
     "execution_count": 48,
     "metadata": {},
     "output_type": "execute_result"
    }
   ],
   "source": [
    "pred0 = np.array([model.predict(test_feat_df.values) for model in models])\n",
    "pred1 = np.mean(pred0, axis=0)\n",
    "pred2 = revert_to_real(pred1)\n",
    "pred2"
   ]
  },
  {
   "cell_type": "markdown",
   "id": "95b363d6",
   "metadata": {},
   "source": [
    "### Metrics:"
   ]
  },
  {
   "cell_type": "code",
   "execution_count": 90,
   "id": "fewer-aggregate",
   "metadata": {
    "execution": {
     "iopub.execute_input": "2021-06-18T12:08:10.974420Z",
     "iopub.status.busy": "2021-06-18T12:08:10.973763Z",
     "iopub.status.idle": "2021-06-18T12:08:10.977240Z",
     "shell.execute_reply": "2021-06-18T12:08:10.976362Z",
     "shell.execute_reply.started": "2021-06-18T12:07:23.241111Z"
    },
    "papermill": {
     "duration": 0.049571,
     "end_time": "2021-06-18T12:08:10.977422",
     "exception": false,
     "start_time": "2021-06-18T12:08:10.927851",
     "status": "completed"
    },
    "tags": []
   },
   "outputs": [
    {
     "name": "stdout",
     "output_type": "stream",
     "text": [
      "accuracy for LightGBM: 0.7050359712230215\n",
      "---------------------------------------------------------\n",
      "              precision    recall  f1-score   support\n",
      "\n",
      "           0       0.71      1.00      0.83        98\n",
      "           1       0.00      0.00      0.00        41\n",
      "\n",
      "    accuracy                           0.71       139\n",
      "   macro avg       0.35      0.50      0.41       139\n",
      "weighted avg       0.50      0.71      0.58       139\n",
      "\n",
      "---------------------------------------------------------\n",
      "Cross-entropy loss for LightGBM: 10.631581215494988\n",
      "---------------------------------------------------------\n",
      "confusion_matrix:\n",
      "\n",
      "[[98  0]\n",
      " [41  0]]\n"
     ]
    }
   ],
   "source": [
    "from sklearn.metrics import classification_report, log_loss, accuracy_score, confusion_matrix\n",
    "from sklearn import metrics\n",
    "\n",
    "\n",
    "\n",
    "accuracy=accuracy_score(testy,pred2)\n",
    "\n",
    "print('accuracy for LightGBM:', accuracy )\n",
    "print('---------------------------------------------------------')\n",
    "print(classification_report(testy,pred2))\n",
    "print('---------------------------------------------------------')\n",
    "print('Cross-entropy loss for LightGBM:',log_loss(testy,pred2))\n",
    "print('---------------------------------------------------------')\n",
    "\n",
    "print('confusion_matrix:')\n",
    "print()\n",
    "print(confusion_matrix(testy,pred2))\n"
   ]
  },
  {
   "cell_type": "code",
   "execution_count": 50,
   "id": "focused-burner",
   "metadata": {
    "execution": {
     "iopub.execute_input": "2021-06-18T12:08:11.108176Z",
     "iopub.status.busy": "2021-06-18T12:08:11.100918Z",
     "iopub.status.idle": "2021-06-18T12:08:11.372846Z",
     "shell.execute_reply": "2021-06-18T12:08:11.372051Z",
     "shell.execute_reply.started": "2021-06-18T12:07:23.248360Z"
    },
    "papermill": {
     "duration": 0.350568,
     "end_time": "2021-06-18T12:08:11.373013",
     "exception": false,
     "start_time": "2021-06-18T12:08:11.022445",
     "status": "completed"
    },
    "tags": []
   },
   "outputs": [
    {
     "data": {
      "image/png": "[encoded data removed]",
      "text/plain": [
       "<Figure size 800x800 with 1 Axes>"
      ]
     },
     "metadata": {},
     "output_type": "display_data"
    }
   ],
   "source": [
    "fig, ax = plt.subplots(figsize=(8,8))\n",
    "sns.histplot(pred1, label='Test Predict', ax=ax, color='black')\n",
    "sns.histplot(oof, label='Train Predict', ax=ax, color='C1')\n",
    "ax.legend()\n",
    "ax.grid()"
   ]
  },
  {
   "cell_type": "code",
   "execution_count": 72,
   "id": "contrary-addition",
   "metadata": {
    "papermill": {
     "duration": 0.041558,
     "end_time": "2021-06-18T12:08:11.542883",
     "exception": false,
     "start_time": "2021-06-18T12:08:11.501325",
     "status": "completed"
    },
    "tags": []
   },
   "outputs": [],
   "source": [
    "\n"
   ]
  },
  {
   "cell_type": "code",
   "execution_count": null,
   "id": "33352026",
   "metadata": {},
   "outputs": [],
   "source": []
  },
  {
   "cell_type": "code",
   "execution_count": null,
   "id": "3477b22e",
   "metadata": {},
   "outputs": [],
   "source": []
  },
  {
   "cell_type": "code",
   "execution_count": null,
   "id": "ce12f1a8",
   "metadata": {},
   "outputs": [],
   "source": []
  },
  {
   "cell_type": "code",
   "execution_count": null,
   "id": "538be6a4",
   "metadata": {},
   "outputs": [],
   "source": []
  },
  {
   "cell_type": "code",
   "execution_count": null,
   "id": "8ed7a6a9",
   "metadata": {},
   "outputs": [],
   "source": []
  },
  {
   "cell_type": "code",
   "execution_count": null,
   "id": "096256a1",
   "metadata": {},
   "outputs": [],
   "source": []
  },
  {
   "cell_type": "code",
   "execution_count": null,
   "id": "806c5f5e",
   "metadata": {},
   "outputs": [],
   "source": []
  },
  {
   "cell_type": "code",
   "execution_count": null,
   "id": "cc12236e",
   "metadata": {},
   "outputs": [],
   "source": []
  },
  {
   "cell_type": "code",
   "execution_count": null,
   "id": "c18929b6",
   "metadata": {},
   "outputs": [],
   "source": []
  }
 ],
 "metadata": {
  "kernelspec": {
   "display_name": "Python 3 (ipykernel)",
   "language": "python",
   "name": "python3"
  },
  "language_info": {
   "codemirror_mode": {
    "name": "ipython",
    "version": 3
   },
   "file_extension": ".py",
   "mimetype": "text/x-python",
   "name": "python",
   "nbconvert_exporter": "python",
   "pygments_lexer": "ipython3",
   "version": "3.9.15"
  },
  "papermill": {
   "default_parameters": {},
   "duration": 23.941441,
   "end_time": "2021-06-18T12:08:13.219840",
   "environment_variables": {},
   "exception": null,
   "input_path": "__notebook__.ipynb",
   "output_path": "__notebook__.ipynb",
   "parameters": {},
   "start_time": "2021-06-18T12:07:49.278399",
   "version": "2.3.3"
  }
 },
 "nbformat": 4,
 "nbformat_minor": 5
}
